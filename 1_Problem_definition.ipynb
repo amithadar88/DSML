{
 "cells": [
  {
   "cell_type": "markdown",
   "id": "989b5727",
   "metadata": {},
   "source": [
    "# Goal\n",
    "### Clearly define the problem we want to solve and the question we want to answer. Understand the business context and objectives."
   ]
  }
 ],
 "metadata": {
  "kernelspec": {
   "display_name": "Python 3 (ipykernel)",
   "language": "python",
   "name": "python3"
  },
  "language_info": {
   "codemirror_mode": {
    "name": "ipython",
    "version": 3
   },
   "file_extension": ".py",
   "mimetype": "text/x-python",
   "name": "python",
   "nbconvert_exporter": "python",
   "pygments_lexer": "ipython3",
   "version": "3.11.2"
  }
 },
 "nbformat": 4,
 "nbformat_minor": 5
}
