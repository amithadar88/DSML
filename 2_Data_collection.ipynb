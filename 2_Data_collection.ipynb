{
 "cells": [
  {
   "cell_type": "markdown",
   "id": "dfcb26a7",
   "metadata": {},
   "source": [
    "# Goal\n",
    "### Gather relevant data from various sources, such as databases, APIs, or files. Ensure that the data is accurate, comprehensive, and representative of the problem domain.\n",
    "**Tasks:** Already done, we have all the files we need"
   ]
  }
 ],
 "metadata": {
  "kernelspec": {
   "display_name": "Python 3 (ipykernel)",
   "language": "python",
   "name": "python3"
  },
  "language_info": {
   "codemirror_mode": {
    "name": "ipython",
    "version": 3
   },
   "file_extension": ".py",
   "mimetype": "text/x-python",
   "name": "python",
   "nbconvert_exporter": "python",
   "pygments_lexer": "ipython3",
   "version": "3.11.2"
  }
 },
 "nbformat": 4,
 "nbformat_minor": 5
}
